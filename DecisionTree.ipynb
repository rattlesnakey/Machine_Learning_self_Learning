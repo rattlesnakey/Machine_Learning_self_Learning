{
 "cells": [
  {
   "cell_type": "code",
   "execution_count": 2,
   "metadata": {},
   "outputs": [],
   "source": [
    "#导入numpy\n",
    "import numpy as np\n",
    "#导人画图工具\n",
    "import matplotlib.pyplot as plt\n",
    "\n",
    "\n",
    "from matplotlib.colors import ListedColormap\n",
    "#导入tree 模型和数据集加载工具\n",
    "from sklearn import tree,datasets\n",
    "#导入数据集拆分工具\n",
    "from sklearn.model_selection import train_test_split\n",
    "wine = datasets.load_wine()\n",
    "#只选取数据集的前两个特征\n",
    "X =wine.data[:,:2]\n",
    "y =wine.target\n",
    "#刊号数据集拆分为训练集和测试集\n",
    "X_train,X_test,y_train,y_test=train_test_split(X,y)"
   ]
  },
  {
   "cell_type": "code",
   "execution_count": 3,
   "metadata": {},
   "outputs": [
    {
     "data": {
      "text/plain": [
       "(133, 2)"
      ]
     },
     "execution_count": 3,
     "metadata": {},
     "output_type": "execute_result"
    }
   ],
   "source": [
    "X_train.shape"
   ]
  },
  {
   "cell_type": "code",
   "execution_count": 4,
   "metadata": {},
   "outputs": [
    {
     "data": {
      "text/plain": [
       "DecisionTreeClassifier(class_weight=None, criterion='gini', max_depth=5,\n",
       "                       max_features=None, max_leaf_nodes=None,\n",
       "                       min_impurity_decrease=0.0, min_impurity_split=None,\n",
       "                       min_samples_leaf=1, min_samples_split=2,\n",
       "                       min_weight_fraction_leaf=0.0, presort=False,\n",
       "                       random_state=None, splitter='best')"
      ]
     },
     "execution_count": 4,
     "metadata": {},
     "output_type": "execute_result"
    }
   ],
   "source": [
    "#设定决策树分类器最大深度为1\n",
    "clf=tree.DecisionTreeClassifier(max_depth=5)#tree里面有decision tree\n",
    "#拟合训练数据集\n",
    "clf.fit(X_train,y_train)"
   ]
  },
  {
   "cell_type": "code",
   "execution_count": 5,
   "metadata": {},
   "outputs": [],
   "source": [
    "#定义图像中分区的颜色和散点的颜色\n",
    "cmap_light = ListedColormap([\"#FFAAAA\", \"#AAFFAA\",\"#AAAAFF\"])\n",
    "cmap_bold = ListedColormap ([ \"#FF0000\",\"#00FF00\",\"#0000FF\"])\n",
    "#分别用样本的两个特征值创建图像和横轴和纵轴\n",
    "x_min,x_max= X_train[:,0].min()-1 , X_train[:,0].max() + 1\n",
    "y_min , y_max = X_train [ :, 1].min()-1,X_train [ :, 1].max() + 1\n",
    "xx,yy = np.meshgrid(np.arange(x_min,x_max, 0.02),\n",
    "np.arange(y_min,y_max , 0.02))\n",
    "Z = clf.predict(np.c_[xx.ravel(),yy.ravel()])\n"
   ]
  },
  {
   "cell_type": "code",
   "execution_count": 6,
   "metadata": {},
   "outputs": [
    {
     "data": {
      "text/plain": [
       "(346, 271)"
      ]
     },
     "execution_count": 6,
     "metadata": {},
     "output_type": "execute_result"
    }
   ],
   "source": [
    "yy.shape"
   ]
  },
  {
   "cell_type": "code",
   "execution_count": 7,
   "metadata": {},
   "outputs": [
    {
     "data": {
      "image/png": "[encoded data removed]",
      "text/plain": [
       "<Figure size 432x288 with 1 Axes>"
      ]
     },
     "metadata": {
      "needs_background": "light"
     },
     "output_type": "display_data"
    }
   ],
   "source": [
    "#给每个分类中的样本分配不同的颜色\n",
    "Z = Z.reshape(xx.shape)\n",
    "plt.figure()\n",
    "plt.pcolormesh(xx , yy , Z , cmap=cmap_light)\n",
    "#用散点把样本表示出来\n",
    "plt.scatter(X[ :,0], X[ :, 1], c=y, cmap=cmap_bold , edgecolor= \"k\",s =20 )\n",
    "plt.xlim(xx.min() , xx.max () )#横纵坐标的范围\n",
    "plt.ylim (yy.min () , yy.max ())\n",
    "plt.title(  \"Classifier: (max_depth = 3 )\"  )\n",
    "plt.show()"
   ]
  },
  {
   "cell_type": "code",
   "execution_count": 8,
   "metadata": {},
   "outputs": [
    {
     "data": {
      "text/plain": [
       "0.7777777777777778"
      ]
     },
     "execution_count": 8,
     "metadata": {},
     "output_type": "execute_result"
    }
   ],
   "source": [
    "clf.score(X_test,y_test)#depth不一定是越大越好"
   ]
  },
  {
   "cell_type": "code",
   "execution_count": 24,
   "metadata": {},
   "outputs": [],
   "source": [
    "#导入graphviz工具\n",
    "import os\n",
    "os.environ[\"PATH\"] += os.pathsep + 'D:\\桌面\\graphviz-2.44.2~dev.20200818.1009-win32\\Graphviz\\bin'\n",
    "#dot -Tpng wine.dot -o wine.png，到对应Dot文件的目录下面执行这个语句\n",
    "import graphviz\n",
    "#导入决策树中输出graphviz的接口\n",
    "from sklearn.tree import export_graphviz\n",
    "#选择最大深度为3的分类模型\n",
    "export_graphviz(clf,out_file=\"wine.dot\",class_names=wine.target_names,\n",
    "feature_names=wine.feature_names[:2],impurity=False,filled=True)\n",
    "#打开一个dot文件\n",
    "#path=\"\"C:\\Users\\admin\\temp_inpynb\\MachineLearning\\\"\"\n",
    "#D:\\桌面\\graphviz-2.44.2~dev.20200818.1009-win32\\Graphviz\\bin\n",
    "# with open (\"wine.dot\") as f:\n",
    "#     dot_graph = f.read()\n",
    "# #显示dot文件中的图形\n",
    "# graphviz.Source(dot_graph)"
   ]
  },
  {
   "cell_type": "code",
   "execution_count": null,
   "metadata": {},
   "outputs": [],
   "source": []
  },
  {
   "cell_type": "code",
   "execution_count": null,
   "metadata": {},
   "outputs": [],
   "source": []
  },
  {
   "cell_type": "code",
   "execution_count": null,
   "metadata": {},
   "outputs": [],
   "source": []
  },
  {
   "cell_type": "code",
   "execution_count": null,
   "metadata": {},
   "outputs": [],
   "source": []
  },
  {
   "cell_type": "code",
   "execution_count": null,
   "metadata": {},
   "outputs": [],
   "source": []
  },
  {
   "cell_type": "code",
   "execution_count": null,
   "metadata": {},
   "outputs": [],
   "source": []
  },
  {
   "cell_type": "code",
   "execution_count": null,
   "metadata": {},
   "outputs": [],
   "source": []
  }
 ],
 "metadata": {
  "kernelspec": {
   "display_name": "Python 3",
   "language": "python",
   "name": "python3"
  },
  "language_info": {
   "codemirror_mode": {
    "name": "ipython",
    "version": 3
   },
   "file_extension": ".py",
   "mimetype": "text/x-python",
   "name": "python",
   "nbconvert_exporter": "python",
   "pygments_lexer": "ipython3",
   "version": "3.7.4"
  }
 },
 "nbformat": 4,
 "nbformat_minor": 4
}
