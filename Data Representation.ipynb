{
 "cells": [
  {
   "cell_type": "markdown",
   "metadata": {},
   "source": [
    "首先， 我们要了解一下什么是哑变量（ Dummy Variables ）。哑变量， 也被称为虚拟变量，\n",
    "是一种在统计学和经济学领域非常常用的， 用来把某些类型变量转化为二值变量的方法，\n",
    "在回归分析中的使用尤其广泛。在第6 章中，我们就是使用了pandas 的get_dummies 将\n",
    "adult 数据集中的类型特征转换成了用0 和l 表达的数值特征。\n",
    "\n",
    "哑变量，dummy variables"
   ]
  },
  {
   "cell_type": "code",
   "execution_count": 1,
   "metadata": {},
   "outputs": [
    {
     "data": {
      "text/html": [
       "<div>\n",
       "<style scoped>\n",
       "    .dataframe tbody tr th:only-of-type {\n",
       "        vertical-align: middle;\n",
       "    }\n",
       "\n",
       "    .dataframe tbody tr th {\n",
       "        vertical-align: top;\n",
       "    }\n",
       "\n",
       "    .dataframe thead th {\n",
       "        text-align: right;\n",
       "    }\n",
       "</style>\n",
       "<table border=\"1\" class=\"dataframe\">\n",
       "  <thead>\n",
       "    <tr style=\"text-align: right;\">\n",
       "      <th></th>\n",
       "      <th>数值特征</th>\n",
       "      <th>类型特征</th>\n",
       "    </tr>\n",
       "  </thead>\n",
       "  <tbody>\n",
       "    <tr>\n",
       "      <td>0</td>\n",
       "      <td>5</td>\n",
       "      <td>西瓜</td>\n",
       "    </tr>\n",
       "    <tr>\n",
       "      <td>1</td>\n",
       "      <td>6</td>\n",
       "      <td>香蕉</td>\n",
       "    </tr>\n",
       "    <tr>\n",
       "      <td>2</td>\n",
       "      <td>7</td>\n",
       "      <td>椅子</td>\n",
       "    </tr>\n",
       "    <tr>\n",
       "      <td>3</td>\n",
       "      <td>8</td>\n",
       "      <td>苹果</td>\n",
       "    </tr>\n",
       "    <tr>\n",
       "      <td>4</td>\n",
       "      <td>9</td>\n",
       "      <td>葡萄</td>\n",
       "    </tr>\n",
       "  </tbody>\n",
       "</table>\n",
       "</div>"
      ],
      "text/plain": [
       "   数值特征 类型特征\n",
       "0     5   西瓜\n",
       "1     6   香蕉\n",
       "2     7   椅子\n",
       "3     8   苹果\n",
       "4     9   葡萄"
      ]
     },
     "metadata": {},
     "output_type": "display_data"
    }
   ],
   "source": [
    "#导入pandas\n",
    "import pandas as pd\n",
    "#手工输入←个数据表\n",
    "fruits = pd.DataFrame({\"数值特征\": [5,6,7,8,9],\n",
    "\"类型特征\": [\"西瓜\",\"香蕉\", \"椅子\",\"苹果\",\"葡萄\"]})\n",
    "display(fruits)"
   ]
  },
  {
   "cell_type": "markdown",
   "metadata": {},
   "source": [
    "把里面的类型特征要转化成数值特征，用到get_dummy"
   ]
  },
  {
   "cell_type": "code",
   "execution_count": 2,
   "metadata": {},
   "outputs": [
    {
     "data": {
      "text/html": [
       "<div>\n",
       "<style scoped>\n",
       "    .dataframe tbody tr th:only-of-type {\n",
       "        vertical-align: middle;\n",
       "    }\n",
       "\n",
       "    .dataframe tbody tr th {\n",
       "        vertical-align: top;\n",
       "    }\n",
       "\n",
       "    .dataframe thead th {\n",
       "        text-align: right;\n",
       "    }\n",
       "</style>\n",
       "<table border=\"1\" class=\"dataframe\">\n",
       "  <thead>\n",
       "    <tr style=\"text-align: right;\">\n",
       "      <th></th>\n",
       "      <th>数值特征</th>\n",
       "      <th>类型特征_椅子</th>\n",
       "      <th>类型特征_苹果</th>\n",
       "      <th>类型特征_葡萄</th>\n",
       "      <th>类型特征_西瓜</th>\n",
       "      <th>类型特征_香蕉</th>\n",
       "    </tr>\n",
       "  </thead>\n",
       "  <tbody>\n",
       "    <tr>\n",
       "      <td>0</td>\n",
       "      <td>5</td>\n",
       "      <td>0</td>\n",
       "      <td>0</td>\n",
       "      <td>0</td>\n",
       "      <td>1</td>\n",
       "      <td>0</td>\n",
       "    </tr>\n",
       "    <tr>\n",
       "      <td>1</td>\n",
       "      <td>6</td>\n",
       "      <td>0</td>\n",
       "      <td>0</td>\n",
       "      <td>0</td>\n",
       "      <td>0</td>\n",
       "      <td>1</td>\n",
       "    </tr>\n",
       "    <tr>\n",
       "      <td>2</td>\n",
       "      <td>7</td>\n",
       "      <td>1</td>\n",
       "      <td>0</td>\n",
       "      <td>0</td>\n",
       "      <td>0</td>\n",
       "      <td>0</td>\n",
       "    </tr>\n",
       "    <tr>\n",
       "      <td>3</td>\n",
       "      <td>8</td>\n",
       "      <td>0</td>\n",
       "      <td>1</td>\n",
       "      <td>0</td>\n",
       "      <td>0</td>\n",
       "      <td>0</td>\n",
       "    </tr>\n",
       "    <tr>\n",
       "      <td>4</td>\n",
       "      <td>9</td>\n",
       "      <td>0</td>\n",
       "      <td>0</td>\n",
       "      <td>1</td>\n",
       "      <td>0</td>\n",
       "      <td>0</td>\n",
       "    </tr>\n",
       "  </tbody>\n",
       "</table>\n",
       "</div>"
      ],
      "text/plain": [
       "   数值特征  类型特征_椅子  类型特征_苹果  类型特征_葡萄  类型特征_西瓜  类型特征_香蕉\n",
       "0     5        0        0        0        1        0\n",
       "1     6        0        0        0        0        1\n",
       "2     7        1        0        0        0        0\n",
       "3     8        0        1        0        0        0\n",
       "4     9        0        0        1        0        0"
      ]
     },
     "execution_count": 2,
     "metadata": {},
     "output_type": "execute_result"
    }
   ],
   "source": [
    "fru_dum=pd.get_dummies(fruits)\n",
    "fru_dum"
   ]
  },
  {
   "cell_type": "markdown",
   "metadata": {},
   "source": [
    "get_dummies是不会对数值特征进行转化的\n",
    "\n",
    "\n",
    "在get_dummies函数中，我们是可以制定要转化哪个列的属性值的\n",
    "pd.get_dummies(fruits, columns ＝［’数值特征’］)\n"
   ]
  },
  {
   "cell_type": "code",
   "execution_count": null,
   "metadata": {},
   "outputs": [],
   "source": []
  },
  {
   "cell_type": "code",
   "execution_count": null,
   "metadata": {},
   "outputs": [],
   "source": []
  },
  {
   "cell_type": "markdown",
   "metadata": {},
   "source": [
    "除了get_dummies还有对数据进行装箱处理(binning 或者叫做离散化 discrezation)"
   ]
  },
  {
   "cell_type": "code",
   "execution_count": 5,
   "metadata": {},
   "outputs": [
    {
     "data": {
      "image/png": "[encoded data removed]",
      "text/plain": [
       "<Figure size 432x288 with 1 Axes>"
      ]
     },
     "metadata": {
      "needs_background": "light"
     },
     "output_type": "display_data"
    }
   ],
   "source": [
    "#导人numpy\n",
    "import numpy as np\n",
    "#导入画图工具\n",
    "import matplotlib.pyplot as plt\n",
    "#生成随机数列\n",
    "rnd = np.random.RandomState(38)\n",
    "x =rnd.uniform(-5,5,size=50)\n",
    "#向数据中添加噪声\n",
    "y_no_noise = (np.cos(6*x)+x)\n",
    "X = x.reshape(-1,1)\n",
    "y = (y_no_noise + rnd.normal(size=len(x)))/2\n",
    "#绘制图形\n",
    "plt.plot(X, y,\"o\",c=\"r\")#这就直接是散点图\n",
    "#显示图形\n",
    "plt.show()"
   ]
  },
  {
   "cell_type": "code",
   "execution_count": 6,
   "metadata": {},
   "outputs": [
    {
     "data": {
      "image/png": "[encoded data removed]",
      "text/plain": [
       "<Figure size 432x288 with 1 Axes>"
      ]
     },
     "metadata": {
      "needs_background": "light"
     },
     "output_type": "display_data"
    }
   ],
   "source": [
    "#导入神经网络\n",
    "from sklearn.neural_network import MLPRegressor\n",
    "#导人KNN\n",
    "from sklearn.neighbors import KNeighborsRegressor\n",
    "#生成一个等差数列\n",
    "line = np.linspace(- 5,5,1000,endpoint=False).reshape(-1 , 1)\n",
    "#分别用两种算法拟合数据\n",
    "mlpr = MLPRegressor().fit(X, y )\n",
    "knr = KNeighborsRegressor().fit(X,y)\n",
    "#绘制图形\n",
    "plt.plot(line,mlpr.predict(line),label= \"MLP\")\n",
    "plt.plot(line,knr.predict(line),label= \"KNN\")\n",
    "plt.plot(X , y,\"o\", c =\"r\" )\n",
    "plt.legend (loc= \"best\")#把label打印出来\n",
    "#显示图形\n",
    "plt.show()"
   ]
  },
  {
   "cell_type": "markdown",
   "metadata": {},
   "source": [
    "可以看到KNN的regression的线更加曲折一点"
   ]
  },
  {
   "cell_type": "code",
   "execution_count": 10,
   "metadata": {},
   "outputs": [
    {
     "name": "stdout",
     "output_type": "stream",
     "text": [
      "装箱数据范围:[-5. -4. -3. -2. -1.  0.  1.  2.  3.  4.  5.]\n",
      "前十个数据点的特征值\n",
      " [[-1.1522688 ]\n",
      " [ 3.59707847]\n",
      " [ 4.44199636]\n",
      " [ 2.02824894]\n",
      " [ 1.33634097]\n",
      " [ 1.05961282]\n",
      " [-2.99873157]\n",
      " [-1.12612112]\n",
      " [-2.41016836]\n",
      " [-4.25392719]]\n",
      "前十个数据点所在的箱子：[[ 4]\n",
      " [ 9]\n",
      " [10]\n",
      " [ 8]\n",
      " [ 7]\n",
      " [ 7]\n",
      " [ 3]\n",
      " [ 4]\n",
      " [ 3]\n",
      " [ 1]]\n"
     ]
    }
   ],
   "source": [
    "#设置箱体数为11\n",
    "bins = np.linspace(-5 , 5 , 11)\n",
    "#将数据进行装箱操作\n",
    "target_bin = np.digitize(X,bins=bins)#Digitize \n",
    "#打印装箱数据范围\n",
    "print(\"装箱数据范围:{}\".format(bins))\n",
    "#打印前十个数据的特征值\n",
    "print(\"前十个数据点的特征值\\n {}\".format (X[:10]))\n",
    "#找到它们所在的箱子\n",
    "print(\"前十个数据点所在的箱子：{}\".format(target_bin[:10]))"
   ]
  },
  {
   "cell_type": "markdown",
   "metadata": {},
   "source": [
    "每个箱子相当于一个范围区间吧，11的点就有10个箱子\n",
    "\n",
    "从结果中可以看到， 第一个箱子是－ 5 到－4 之间， 第二个箱子是－ 4 到－ 3\n",
    "之间，以此类推。第l 个数据点一1.1522688 所在的箱子是第4 个， 第2 个数据点3.59707847\n",
    "所在的箱子是第9 个，而第3 个数据点4.44199636 所在的箱子是第10 个，以此类推。\n",
    "接下来我们要做的事情，就是用新的方法来表达己经装箱的数据，所要用到的方法\n",
    "就是sci.kit-learn 的独热编码OneHotEncoder 。On eHotEncoder 和pandas 的get_ dummies 功\n",
    "能基本上是一样的， 但是OneHotEncoder 目前只能用于整型数值的类型变量。现在输入\n",
    "代码如下："
   ]
  },
  {
   "cell_type": "code",
   "execution_count": 12,
   "metadata": {},
   "outputs": [
    {
     "name": "stdout",
     "output_type": "stream",
     "text": [
      "装箱后的数据形态(50, 10)\n",
      "装箱后的前十个数据点。[[0. 0. 0. 1. 0. 0. 0. 0. 0. 0.]\n",
      " [0. 0. 0. 0. 0. 0. 0. 0. 1. 0.]\n",
      " [0. 0. 0. 0. 0. 0. 0. 0. 0. 1.]\n",
      " [0. 0. 0. 0. 0. 0. 0. 1. 0. 0.]\n",
      " [0. 0. 0. 0. 0. 0. 1. 0. 0. 0.]\n",
      " [0. 0. 0. 0. 0. 0. 1. 0. 0. 0.]\n",
      " [0. 0. 1. 0. 0. 0. 0. 0. 0. 0.]\n",
      " [0. 0. 0. 1. 0. 0. 0. 0. 0. 0.]\n",
      " [0. 0. 1. 0. 0. 0. 0. 0. 0. 0.]\n",
      " [1. 0. 0. 0. 0. 0. 0. 0. 0. 0.]]\n"
     ]
    },
    {
     "name": "stderr",
     "output_type": "stream",
     "text": [
      "C:\\Users\\admin\\Anaconda3\\lib\\site-packages\\sklearn\\preprocessing\\_encoders.py:415: FutureWarning: The handling of integer data will change in version 0.22. Currently, the categories are determined based on the range [0, max(values)], while in the future they will be determined based on the unique values.\n",
      "If you want the future behaviour and silence this warning, you can specify \"categories='auto'\".\n",
      "In case you used a LabelEncoder before this OneHotEncoder to convert the categories to integers, then you can now use the OneHotEncoder directly.\n",
      "  warnings.warn(msg, FutureWarning)\n"
     ]
    }
   ],
   "source": [
    "#导入独热编码\n",
    "from sklearn.preprocessing import OneHotEncoder\n",
    "onehot = OneHotEncoder(sparse = False)\n",
    "onehot.fit(target_bin)\n",
    "#使用独热编码转化数据\n",
    "X_in_bin=onehot.transform(target_bin)\n",
    "#打印结果\n",
    "print (\"装箱后的数据形态{}\".format(X_in_bin.shape))\n",
    "print (\"装箱后的前十个数据点。{}\".format( X_in_bin[:10]))"
   ]
  },
  {
   "cell_type": "markdown",
   "metadata": {},
   "source": [
    "one-hot encoder其实就是将整形的类型转化成独热的类型"
   ]
  },
  {
   "cell_type": "markdown",
   "metadata": {},
   "source": [
    "现在可以看到，虽然数据集中样本的数量仍然是50 个，但特征数变成\n",
    "了10 个。这是因为我们生成的箱子是10 个，而新的数据点的特征是用其所在的箱子号\n",
    "码来表示的。例如， 第1 个数据点在第4 个箱子中，则其特征列表中第4 个数字是［，\n",
    "其他数字是0 ，以此类推。\n",
    "这样一来，相当于我们把原先数据集中的连续特征转化成了类别特征。现在我们再\n",
    "用MLP 和配刑算法重新进行回归分析，看看结果发生了什么变化。输入代码如下："
   ]
  },
  {
   "cell_type": "code",
   "execution_count": 13,
   "metadata": {},
   "outputs": [
    {
     "data": {
      "image/png": "[encoded data removed]",
      "text/plain": [
       "<Figure size 432x288 with 1 Axes>"
      ]
     },
     "metadata": {
      "needs_background": "light"
     },
     "output_type": "display_data"
    }
   ],
   "source": [
    "new_line=onehot.transform(np.digitize(line,bins=bins))#Digitize \n",
    "new_mlpr = MLPRegressor().fit(X_in_bin, y )\n",
    "new_knr = KNeighborsRegressor().fit(X_in_bin,y)\n",
    "#绘制图形\n",
    "plt.plot(line,new_mlpr.predict(new_line),label= \"NEW_MLP\")#还是以原来的横坐表去画\n",
    "plt.plot(line,new_knr.predict(new_line),label= \"NEW_KNN\")\n",
    "plt.plot(X , y,\"o\", c =\"r\" )\n",
    "plt.legend (loc= \"best\")#把label打印出来\n",
    "#显示图形\n",
    "plt.show()"
   ]
  },
  {
   "cell_type": "markdown",
   "metadata": {},
   "source": [
    "有意思的事情发生了， MLP 模型和KNN 模型变得更相似了，尤其在\n",
    "x > O 的部分， 两个模型几乎完全重合。如果和图10-5 对比的话，你会发现MLP 的回归\n",
    "模型变得更复杂， 而KNN 的模型变得更简单。所以这是对样本特征进行装箱的一个好处：\n",
    "它可以纠正模型过拟合或者欠拟合的问题。尤其是当针对大规模高维度的数据集使用线\n",
    "性模型的时候，装箱处理可以大幅提高线性模型的预测准确率。\n",
    "\n",
    "大规模高维度的线性模型，先装箱再onehot可以纠正过拟合或者欠拟合\n",
    "\n",
    "\n",
    "这种对于样本数据进行装箱的操作对于基于决策树的算法（如随机森林、梯度上升\n",
    "决策树，当然也包括决策树本身）没有太多的作用，因为这类算法本身就是不停在拆分\n",
    "样本的特征数据，所以不需要再使用装箱操作。"
   ]
  },
  {
   "cell_type": "code",
   "execution_count": null,
   "metadata": {},
   "outputs": [],
   "source": []
  },
  {
   "cell_type": "code",
   "execution_count": null,
   "metadata": {},
   "outputs": [],
   "source": []
  },
  {
   "cell_type": "markdown",
   "metadata": {},
   "source": [
    "数据升维度，有交互式的intersaction feature,还有多项式的polynominal feature,intersaction feature用的是hstack"
   ]
  },
  {
   "cell_type": "code",
   "execution_count": 15,
   "metadata": {},
   "outputs": [
    {
     "name": "stdout",
     "output_type": "stream",
     "text": [
      "(50, 11)\n"
     ]
    }
   ],
   "source": [
    "#将原始数据和装箱后的数据说行堆叠\n",
    "X_stack=np.hstack([X, X_in_bin])\n",
    "print(X_stack.shape)"
   ]
  },
  {
   "cell_type": "code",
   "execution_count": 18,
   "metadata": {},
   "outputs": [
    {
     "data": {
      "image/png": "[encoded data removed]",
      "text/plain": [
       "<Figure size 432x288 with 1 Axes>"
      ]
     },
     "metadata": {
      "needs_background": "light"
     },
     "output_type": "display_data"
    }
   ],
   "source": [
    "line_stack=np.hstack([line,new_line])\n",
    "#重新训练模型\n",
    "mlpr_interact=MLPRegressor().fit(X_stack, y)\n",
    "#绘制图形\n",
    "plt.plot(line, mlpr_interact.predict(line_stack),label= \"MLP for interaction\")\n",
    "plt.ylim(-4 , 4)\n",
    "# for vline in bins :\n",
    "# plt .plot ( [vline , vline) , (-5 , 5 ] ,’ : ’, c= ’ k ’)\n",
    "plt.legend(loc=\"lower right\")\n",
    "plt.plot(X,y,\"o\", c =\"r\")\n",
    "#显示图形\n",
    "plt.show()"
   ]
  },
  {
   "cell_type": "markdown",
   "metadata": {},
   "source": [
    "之前的没加交互式的话，在箱体中是水平的，现在的话，在箱体中式倾斜的\n",
    "\n",
    "\n",
    "但是，这样的操作方式让每个箱体中模型的斜率都是一样的，这还不是我们想要的\n",
    "结果，我们希望达到的效果是，每个箱体中都有各自的截距和斜率。所以要换一种数据\n",
    "处理的方式"
   ]
  },
  {
   "cell_type": "code",
   "execution_count": 20,
   "metadata": {},
   "outputs": [
    {
     "name": "stdout",
     "output_type": "stream",
     "text": [
      "(50, 20)\n",
      "[ 0.         0.         0.         1.         0.         0.\n",
      "  0.         0.         0.         0.        -0.        -0.\n",
      " -0.        -1.1522688 -0.        -0.        -0.        -0.\n",
      " -0.        -0.       ]\n"
     ]
    }
   ],
   "source": [
    "#将原始数据和装箱后的数据说行堆叠\n",
    "X_multi=np.hstack([X_in_bin,X*X_in_bin])\n",
    "print(X_multi.shape)\n",
    "print(X_multi[0])"
   ]
  },
  {
   "cell_type": "code",
   "execution_count": 22,
   "metadata": {},
   "outputs": [
    {
     "data": {
      "image/png": "[encoded data removed]",
      "text/plain": [
       "<Figure size 432x288 with 1 Axes>"
      ]
     },
     "metadata": {
      "needs_background": "light"
     },
     "output_type": "display_data"
    }
   ],
   "source": [
    "#重新训练模型\n",
    "mlpr_multi = MLPRegressor().fit(X_multi, y)\n",
    "line_multi = np.hstack([new_line, line* new_line])\n",
    "#绘制图形\n",
    "plt.plot (line, mlpr_multi.predict(line_multi), label =\"MLP Regressor\")\n",
    "# for vline in bins:\n",
    "# plt . plot([vl 工ne, vline], ( - 5, 5 ] ,’:’, c =’ gray ’ )\n",
    "plt.plot(X, y ,\"o\", c=\"r\")\n",
    "plt.legend(loc=\"lower right\")\n",
    "#显示图形\n",
    "plt. show()"
   ]
  },
  {
   "cell_type": "markdown",
   "metadata": {},
   "source": [
    "通过这样的处理之后，大家会发现，每个箱子中模型的“截距”和“斜\n",
    "率”都不一样了。而这种数据处理的目的， 主要是为了让比较容易出现欠拟合现象的模\n",
    "型能有更好的表现。例如，我们曾在第4 章介绍过的线性模型，线性模型在高维数据集\n",
    "中有良好的性能，但是在低维数据集中却表现一般，因此我们需要用上面的方法来进行\n",
    "特征扩充，以便给数据集“升维”，从而提升线性模型的准确率。\n",
    "\n",
    "\n",
    "线性模型在低维数据中表现一般，在高维数据的情况下才会表现得较好，所以如果特征很少的话就得对数据进行填充，也就是升维，那么就可以先装箱子，然后再onehot，然后再填充"
   ]
  },
  {
   "cell_type": "code",
   "execution_count": 25,
   "metadata": {},
   "outputs": [
    {
     "data": {
      "text/plain": [
       "(50, 1)"
      ]
     },
     "execution_count": 25,
     "metadata": {},
     "output_type": "execute_result"
    }
   ],
   "source": [
    "X.shape"
   ]
  },
  {
   "cell_type": "code",
   "execution_count": 27,
   "metadata": {},
   "outputs": [
    {
     "name": "stdout",
     "output_type": "stream",
     "text": [
      "(50, 20)\n"
     ]
    }
   ],
   "source": [
    "#导人多项式特征工具\n",
    "from sklearn.preprocessing import PolynomialFeatures\n",
    "#向数据集添加多项式特征\n",
    "poly= PolynomialFeatures(degree=20,include_bias=False)#degree就是多少乘方，而多少乘方的意思就是变成多少维的数据\n",
    "X_poly = poly.fit_transform(X)\n",
    "#打印结果\n",
    "print (X_poly.shape)"
   ]
  },
  {
   "cell_type": "code",
   "execution_count": 29,
   "metadata": {},
   "outputs": [
    {
     "name": "stdout",
     "output_type": "stream",
     "text": [
      "[-1.1522688]\n"
     ]
    }
   ],
   "source": [
    "print(X[0])"
   ]
  },
  {
   "cell_type": "code",
   "execution_count": 30,
   "metadata": {},
   "outputs": [
    {
     "name": "stdout",
     "output_type": "stream",
     "text": [
      "[ -1.1522688    1.3277234   -1.52989425   1.76284942  -2.0312764\n",
      "   2.34057643  -2.6969732    3.10763809  -3.58083443   4.1260838\n",
      "  -4.75435765   5.47829801  -6.3124719    7.27366446  -8.38121665\n",
      "   9.65741449 -11.12793745  12.82237519 -14.77482293  17.02456756]\n"
     ]
    }
   ],
   "source": [
    "print(X_poly[0])#乘方扩充数据集的话，其实就是拿原始的数据成不同的次方一次往后放罢了"
   ]
  },
  {
   "cell_type": "code",
   "execution_count": 34,
   "metadata": {},
   "outputs": [
    {
     "data": {
      "text/plain": [
       "['x0',\n",
       " 'x0^2',\n",
       " 'x0^3',\n",
       " 'x0^4',\n",
       " 'x0^5',\n",
       " 'x0^6',\n",
       " 'x0^7',\n",
       " 'x0^8',\n",
       " 'x0^9',\n",
       " 'x0^10',\n",
       " 'x0^11',\n",
       " 'x0^12',\n",
       " 'x0^13',\n",
       " 'x0^14',\n",
       " 'x0^15',\n",
       " 'x0^16',\n",
       " 'x0^17',\n",
       " 'x0^18',\n",
       " 'x0^19',\n",
       " 'x0^20']"
      ]
     },
     "execution_count": 34,
     "metadata": {},
     "output_type": "execute_result"
    }
   ],
   "source": [
    "poly.get_feature_names()"
   ]
  },
  {
   "cell_type": "code",
   "execution_count": 38,
   "metadata": {},
   "outputs": [
    {
     "data": {
      "image/png": "[encoded data removed]",
      "text/plain": [
       "<Figure size 432x288 with 1 Axes>"
      ]
     },
     "metadata": {
      "needs_background": "light"
     },
     "output_type": "display_data"
    }
   ],
   "source": [
    "#导入线性回归\n",
    "from sklearn.linear_model import LinearRegression\n",
    "#使用处理后的数据训练线性回归模型\n",
    "LNR_poly = LinearRegression().fit(X_poly, y)\n",
    "line_poly = poly.transform(line)\n",
    "#绘制图形\n",
    "plt.plot(line,LNR_poly.predict(line_poly),label=\"Linear Regressor\")\n",
    "plt.xlim(np.min(X)- 0.5,np.max(X)+0.5)\n",
    "plt.ylim(np.min(y)-0.5 ,np.max(y)+0.5)\n",
    "plt.plot(X , y ,\"o\" ,c= \"r\")\n",
    "plt.legend(loc=\"lower right\")\n",
    "#显示图形\n",
    "plt . show()"
   ]
  },
  {
   "cell_type": "markdown",
   "metadata": {},
   "source": [
    "可以看到，其实把原来的线性直线换成了现在这种非线性的直线，而且在一定程度上改善了欠拟合的情况\n",
    "\n",
    "\n",
    "我们使用了一些对数据集特征进行扩展的方法，从而提升了线性\n",
    "模型或者是神经网络模型的回归分析性能，这种方法尤其在数据特征与目标呈现非线性\n",
    "关系时效果格外明显。当然，除了我们上面用到的Polynomia l Features 这种将特征值转\n",
    "化为多项式的方法之外，我们还可以用类似正弦函数sin （）、对数函数log （），或是指数函\n",
    "数exp （）等来进行相似的操作。"
   ]
  },
  {
   "cell_type": "code",
   "execution_count": null,
   "metadata": {},
   "outputs": [],
   "source": []
  }
 ],
 "metadata": {
  "kernelspec": {
   "display_name": "Python 3",
   "language": "python",
   "name": "python3"
  },
  "language_info": {
   "codemirror_mode": {
    "name": "ipython",
    "version": 3
   },
   "file_extension": ".py",
   "mimetype": "text/x-python",
   "name": "python",
   "nbconvert_exporter": "python",
   "pygments_lexer": "ipython3",
   "version": "3.7.4"
  }
 },
 "nbformat": 4,
 "nbformat_minor": 4
}
