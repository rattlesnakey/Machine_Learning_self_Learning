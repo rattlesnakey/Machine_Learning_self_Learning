{
 "cells": [
  {
   "cell_type": "code",
   "execution_count": 2,
   "metadata": {},
   "outputs": [],
   "source": [
    "from sklearn.datasets import make_blobs\n",
    "from sklearn.model_selection import train_test_split"
   ]
  },
  {
   "cell_type": "code",
   "execution_count": 4,
   "metadata": {},
   "outputs": [],
   "source": [
    "X,y=make_blobs(n_samples=500,centers=5,random_state=8)#centers\n",
    "X_train,X_test,y_train,y_test=train_test_split(X,y,random_state=0)#先全部X，再全部Y"
   ]
  },
  {
   "cell_type": "code",
   "execution_count": 8,
   "metadata": {},
   "outputs": [
    {
     "ename": "ValueError",
     "evalue": "Input X must be non-negative",
     "output_type": "error",
     "traceback": [
      "\u001b[1;31m---------------------------------------------------------------------------\u001b[0m",
      "\u001b[1;31mValueError\u001b[0m                                Traceback (most recent call last)",
      "\u001b[1;32m<ipython-input-8-efdc3147f97b>\u001b[0m in \u001b[0;36m<module>\u001b[1;34m\u001b[0m\n\u001b[0;32m      1\u001b[0m \u001b[1;32mfrom\u001b[0m \u001b[0msklearn\u001b[0m\u001b[1;33m.\u001b[0m\u001b[0mnaive_bayes\u001b[0m \u001b[1;32mimport\u001b[0m \u001b[0mMultinomialNB\u001b[0m\u001b[1;33m\u001b[0m\u001b[1;33m\u001b[0m\u001b[0m\n\u001b[0;32m      2\u001b[0m \u001b[0mNB\u001b[0m\u001b[1;33m=\u001b[0m\u001b[0mMultinomialNB\u001b[0m\u001b[1;33m(\u001b[0m\u001b[1;33m)\u001b[0m\u001b[1;33m\u001b[0m\u001b[1;33m\u001b[0m\u001b[0m\n\u001b[1;32m----> 3\u001b[1;33m \u001b[0mNB\u001b[0m\u001b[1;33m.\u001b[0m\u001b[0mfit\u001b[0m\u001b[1;33m(\u001b[0m\u001b[0mX_train\u001b[0m\u001b[1;33m,\u001b[0m\u001b[0my_train\u001b[0m\u001b[1;33m)\u001b[0m\u001b[1;33m\u001b[0m\u001b[1;33m\u001b[0m\u001b[0m\n\u001b[0m",
      "\u001b[1;32m~\\Anaconda3\\lib\\site-packages\\sklearn\\naive_bayes.py\u001b[0m in \u001b[0;36mfit\u001b[1;34m(self, X, y, sample_weight)\u001b[0m\n\u001b[0;32m    611\u001b[0m         self.feature_count_ = np.zeros((n_effective_classes, n_features),\n\u001b[0;32m    612\u001b[0m                                        dtype=np.float64)\n\u001b[1;32m--> 613\u001b[1;33m         \u001b[0mself\u001b[0m\u001b[1;33m.\u001b[0m\u001b[0m_count\u001b[0m\u001b[1;33m(\u001b[0m\u001b[0mX\u001b[0m\u001b[1;33m,\u001b[0m \u001b[0mY\u001b[0m\u001b[1;33m)\u001b[0m\u001b[1;33m\u001b[0m\u001b[1;33m\u001b[0m\u001b[0m\n\u001b[0m\u001b[0;32m    614\u001b[0m         \u001b[0malpha\u001b[0m \u001b[1;33m=\u001b[0m \u001b[0mself\u001b[0m\u001b[1;33m.\u001b[0m\u001b[0m_check_alpha\u001b[0m\u001b[1;33m(\u001b[0m\u001b[1;33m)\u001b[0m\u001b[1;33m\u001b[0m\u001b[1;33m\u001b[0m\u001b[0m\n\u001b[0;32m    615\u001b[0m         \u001b[0mself\u001b[0m\u001b[1;33m.\u001b[0m\u001b[0m_update_feature_log_prob\u001b[0m\u001b[1;33m(\u001b[0m\u001b[0malpha\u001b[0m\u001b[1;33m)\u001b[0m\u001b[1;33m\u001b[0m\u001b[1;33m\u001b[0m\u001b[0m\n",
      "\u001b[1;32m~\\Anaconda3\\lib\\site-packages\\sklearn\\naive_bayes.py\u001b[0m in \u001b[0;36m_count\u001b[1;34m(self, X, Y)\u001b[0m\n\u001b[0;32m    718\u001b[0m         \u001b[1;34m\"\"\"Count and smooth feature occurrences.\"\"\"\u001b[0m\u001b[1;33m\u001b[0m\u001b[1;33m\u001b[0m\u001b[0m\n\u001b[0;32m    719\u001b[0m         \u001b[1;32mif\u001b[0m \u001b[0mnp\u001b[0m\u001b[1;33m.\u001b[0m\u001b[0many\u001b[0m\u001b[1;33m(\u001b[0m\u001b[1;33m(\u001b[0m\u001b[0mX\u001b[0m\u001b[1;33m.\u001b[0m\u001b[0mdata\u001b[0m \u001b[1;32mif\u001b[0m \u001b[0missparse\u001b[0m\u001b[1;33m(\u001b[0m\u001b[0mX\u001b[0m\u001b[1;33m)\u001b[0m \u001b[1;32melse\u001b[0m \u001b[0mX\u001b[0m\u001b[1;33m)\u001b[0m \u001b[1;33m<\u001b[0m \u001b[1;36m0\u001b[0m\u001b[1;33m)\u001b[0m\u001b[1;33m:\u001b[0m\u001b[1;33m\u001b[0m\u001b[1;33m\u001b[0m\u001b[0m\n\u001b[1;32m--> 720\u001b[1;33m             \u001b[1;32mraise\u001b[0m \u001b[0mValueError\u001b[0m\u001b[1;33m(\u001b[0m\u001b[1;34m\"Input X must be non-negative\"\u001b[0m\u001b[1;33m)\u001b[0m\u001b[1;33m\u001b[0m\u001b[1;33m\u001b[0m\u001b[0m\n\u001b[0m\u001b[0;32m    721\u001b[0m         \u001b[0mself\u001b[0m\u001b[1;33m.\u001b[0m\u001b[0mfeature_count_\u001b[0m \u001b[1;33m+=\u001b[0m \u001b[0msafe_sparse_dot\u001b[0m\u001b[1;33m(\u001b[0m\u001b[0mY\u001b[0m\u001b[1;33m.\u001b[0m\u001b[0mT\u001b[0m\u001b[1;33m,\u001b[0m \u001b[0mX\u001b[0m\u001b[1;33m)\u001b[0m\u001b[1;33m\u001b[0m\u001b[1;33m\u001b[0m\u001b[0m\n\u001b[0;32m    722\u001b[0m         \u001b[0mself\u001b[0m\u001b[1;33m.\u001b[0m\u001b[0mclass_count_\u001b[0m \u001b[1;33m+=\u001b[0m \u001b[0mY\u001b[0m\u001b[1;33m.\u001b[0m\u001b[0msum\u001b[0m\u001b[1;33m(\u001b[0m\u001b[0maxis\u001b[0m\u001b[1;33m=\u001b[0m\u001b[1;36m0\u001b[0m\u001b[1;33m)\u001b[0m\u001b[1;33m\u001b[0m\u001b[1;33m\u001b[0m\u001b[0m\n",
      "\u001b[1;31mValueError\u001b[0m: Input X must be non-negative"
     ]
    }
   ],
   "source": [
    "from sklearn.naive_bayes import MultinomialNB\n",
    "NB=MultinomialNB()\n",
    "NB.fit(X_train,y_train)\n"
   ]
  },
  {
   "cell_type": "code",
   "execution_count": 10,
   "metadata": {},
   "outputs": [],
   "source": [
    "from sklearn.preprocessing import MinMaxScaler"
   ]
  },
  {
   "cell_type": "code",
   "execution_count": 11,
   "metadata": {},
   "outputs": [],
   "source": [
    "scaler=MinMaxScaler()#定义一个示例，和那些模型一样"
   ]
  },
  {
   "cell_type": "code",
   "execution_count": 12,
   "metadata": {},
   "outputs": [
    {
     "data": {
      "text/plain": [
       "MinMaxScaler(copy=True, feature_range=(0, 1))"
      ]
     },
     "execution_count": 12,
     "metadata": {},
     "output_type": "execute_result"
    }
   ],
   "source": [
    "scaler.fit(X_train)#训练好"
   ]
  },
  {
   "cell_type": "code",
   "execution_count": 16,
   "metadata": {},
   "outputs": [],
   "source": [
    "new_X_train=scaler.transform(X_train)#拿去转化"
   ]
  },
  {
   "cell_type": "code",
   "execution_count": 18,
   "metadata": {},
   "outputs": [
    {
     "data": {
      "text/plain": [
       "1.0"
      ]
     },
     "execution_count": 18,
     "metadata": {},
     "output_type": "execute_result"
    }
   ],
   "source": [
    "new_X_train.max()"
   ]
  },
  {
   "cell_type": "code",
   "execution_count": 19,
   "metadata": {},
   "outputs": [],
   "source": [
    "scaler2=MinMaxScaler()#定义一个示例，和那些模型一样"
   ]
  },
  {
   "cell_type": "code",
   "execution_count": 20,
   "metadata": {},
   "outputs": [
    {
     "data": {
      "text/plain": [
       "MinMaxScaler(copy=True, feature_range=(0, 1))"
      ]
     },
     "execution_count": 20,
     "metadata": {},
     "output_type": "execute_result"
    }
   ],
   "source": [
    "scaler2.fit(X_test)"
   ]
  },
  {
   "cell_type": "code",
   "execution_count": 21,
   "metadata": {},
   "outputs": [],
   "source": [
    "new_X_test=scaler2.transform(X_test)"
   ]
  },
  {
   "cell_type": "code",
   "execution_count": 22,
   "metadata": {},
   "outputs": [
    {
     "data": {
      "text/plain": [
       "array([[0.85936727, 0.89941872],\n",
       "       [0.23407556, 0.06496667],\n",
       "       [0.93538386, 0.93033179],\n",
       "       [0.39871147, 0.46115881],\n",
       "       [0.91794175, 0.47046996],\n",
       "       [0.19073755, 0.0646493 ],\n",
       "       [0.39156524, 0.3484641 ],\n",
       "       [0.85556822, 0.57280234],\n",
       "       [0.5111366 , 0.41006063],\n",
       "       [0.76188315, 0.57514051],\n",
       "       [0.85233377, 0.49368968],\n",
       "       [0.24269461, 0.40678621],\n",
       "       [0.4583238 , 0.46148617],\n",
       "       [0.32092156, 0.40096742],\n",
       "       [0.85408211, 0.4923454 ],\n",
       "       [0.52563017, 0.50824642],\n",
       "       [0.07088888, 0.09722878],\n",
       "       [0.18050769, 0.02842517],\n",
       "       [0.40588516, 0.49670122],\n",
       "       [0.87213218, 0.94326149],\n",
       "       [0.42569111, 0.47943685],\n",
       "       [0.89222118, 0.57401942],\n",
       "       [0.45299798, 0.43773126],\n",
       "       [0.76993463, 0.93127323],\n",
       "       [0.84181626, 0.88197275],\n",
       "       [0.        , 0.09249025],\n",
       "       [0.37399022, 0.43624147],\n",
       "       [0.12849795, 0.06349091],\n",
       "       [0.77944469, 0.48169216],\n",
       "       [0.10519873, 0.09656254],\n",
       "       [0.42922944, 0.44612009],\n",
       "       [0.85311869, 0.85004012],\n",
       "       [0.85879856, 0.88804586],\n",
       "       [0.85643099, 0.49499537],\n",
       "       [0.12869298, 0.06698386],\n",
       "       [0.50659064, 0.48413861],\n",
       "       [0.84139704, 0.91176038],\n",
       "       [0.2247439 , 0.06663012],\n",
       "       [0.49880311, 0.52912491],\n",
       "       [0.37073924, 0.4699835 ],\n",
       "       [0.43949679, 0.47472583],\n",
       "       [0.74507104, 0.81279125],\n",
       "       [0.31298228, 0.37109678],\n",
       "       [0.47933777, 0.47684306],\n",
       "       [0.33319696, 0.4400398 ],\n",
       "       [0.12902387, 0.05941934],\n",
       "       [0.43981344, 0.54998549],\n",
       "       [0.29472007, 0.3762181 ],\n",
       "       [0.62468677, 0.40099934],\n",
       "       [0.16007325, 0.04359365],\n",
       "       [0.85971687, 0.94784237],\n",
       "       [0.42209018, 0.40227254],\n",
       "       [0.34743541, 0.44582768],\n",
       "       [0.42965454, 0.38397609],\n",
       "       [0.21033637, 0.06186251],\n",
       "       [0.09441098, 0.14048083],\n",
       "       [0.12454084, 0.07245437],\n",
       "       [0.81776412, 0.93046188],\n",
       "       [0.41944408, 0.47021495],\n",
       "       [0.10539913, 0.07033046],\n",
       "       [0.80046991, 0.86735088],\n",
       "       [0.80618271, 0.8186919 ],\n",
       "       [0.69304349, 0.50899772],\n",
       "       [0.47767039, 0.48544435],\n",
       "       [0.45069795, 0.39417601],\n",
       "       [0.83058835, 0.82245804],\n",
       "       [0.00954007, 0.01502467],\n",
       "       [0.89693098, 0.53650153],\n",
       "       [0.88101692, 0.84654927],\n",
       "       [0.80323344, 0.62196766],\n",
       "       [0.18175397, 0.11063148],\n",
       "       [0.83873967, 0.8333665 ],\n",
       "       [0.89425685, 0.83790747],\n",
       "       [0.09166205, 0.09228466],\n",
       "       [0.95051467, 0.89977948],\n",
       "       [0.50379422, 0.41800275],\n",
       "       [0.4369468 , 0.52499767],\n",
       "       [0.30769903, 0.38794763],\n",
       "       [0.97554554, 0.50845685],\n",
       "       [0.39112799, 0.43655429],\n",
       "       [0.92270221, 0.49938809],\n",
       "       [0.93049395, 1.        ],\n",
       "       [0.90234357, 0.90341003],\n",
       "       [0.8883637 , 0.91862318],\n",
       "       [0.82355745, 0.88260885],\n",
       "       [0.48963877, 0.45654528],\n",
       "       [0.08238099, 0.15883554],\n",
       "       [0.11266572, 0.07580082],\n",
       "       [0.91144769, 0.51309537],\n",
       "       [0.19033037, 0.01693239],\n",
       "       [0.33744185, 0.48602478],\n",
       "       [0.37866122, 0.4632995 ],\n",
       "       [0.38635753, 0.35550144],\n",
       "       [0.05250965, 0.14902454],\n",
       "       [0.88438365, 0.88272541],\n",
       "       [0.85731135, 0.78813667],\n",
       "       [0.39089435, 0.38793   ],\n",
       "       [0.82003592, 0.82969075],\n",
       "       [0.50429721, 0.45321303],\n",
       "       [0.04319994, 0.06412014],\n",
       "       [0.87387609, 0.90115506],\n",
       "       [0.15705193, 0.0322813 ],\n",
       "       [0.78470426, 0.97329012],\n",
       "       [0.83971392, 0.55703458],\n",
       "       [0.42714075, 0.48220285],\n",
       "       [0.4186609 , 0.43088371],\n",
       "       [1.        , 0.94000959],\n",
       "       [0.81874719, 0.47609546],\n",
       "       [0.99580923, 0.88368206],\n",
       "       [0.86401535, 0.47568669],\n",
       "       [0.42289661, 0.47848806],\n",
       "       [0.06277993, 0.        ],\n",
       "       [0.92829526, 0.51644477],\n",
       "       [0.86237501, 0.86083824],\n",
       "       [0.43780559, 0.48632213],\n",
       "       [0.35673822, 0.44690412],\n",
       "       [0.16716948, 0.05753007],\n",
       "       [0.83015757, 0.53802961],\n",
       "       [0.31977979, 0.52424566],\n",
       "       [0.46607729, 0.42869266],\n",
       "       [0.16441164, 0.04446964],\n",
       "       [0.13708083, 0.12680276],\n",
       "       [0.32226442, 0.32087873],\n",
       "       [0.01718065, 0.0842398 ],\n",
       "       [0.84452382, 0.51717282]])"
      ]
     },
     "execution_count": 22,
     "metadata": {},
     "output_type": "execute_result"
    }
   ],
   "source": [
    "new_X_test"
   ]
  },
  {
   "cell_type": "code",
   "execution_count": 23,
   "metadata": {},
   "outputs": [
    {
     "data": {
      "text/plain": [
       "MultinomialNB(alpha=1.0, class_prior=None, fit_prior=True)"
      ]
     },
     "execution_count": 23,
     "metadata": {},
     "output_type": "execute_result"
    }
   ],
   "source": [
    "NB.fit(new_X_train,y_train)"
   ]
  },
  {
   "cell_type": "code",
   "execution_count": 24,
   "metadata": {},
   "outputs": [
    {
     "data": {
      "text/plain": [
       "array([[-0.70987138, -0.67669809],\n",
       "       [-0.48754504, -0.9522605 ],\n",
       "       [-0.47313432, -0.97563311],\n",
       "       [-0.7367932 , -0.65132673],\n",
       "       [-0.69152072, -0.69477629]])"
      ]
     },
     "execution_count": 24,
     "metadata": {},
     "output_type": "execute_result"
    }
   ],
   "source": [
    "NB.coef_#五个类别，每个类别对应一组特征值和系数"
   ]
  },
  {
   "cell_type": "code",
   "execution_count": 25,
   "metadata": {},
   "outputs": [
    {
     "data": {
      "text/plain": [
       "array([-1.67843078, -1.54489939, -1.66424615, -1.53247687, -1.63646658])"
      ]
     },
     "execution_count": 25,
     "metadata": {},
     "output_type": "execute_result"
    }
   ],
   "source": [
    "NB.intercept_"
   ]
  },
  {
   "cell_type": "code",
   "execution_count": 28,
   "metadata": {},
   "outputs": [],
   "source": [
    "import matplotlib.pyplot as plt"
   ]
  },
  {
   "cell_type": "code",
   "execution_count": 31,
   "metadata": {},
   "outputs": [
    {
     "data": {
      "text/plain": [
       "<matplotlib.collections.PathCollection at 0x200128333c8>"
      ]
     },
     "execution_count": 31,
     "metadata": {},
     "output_type": "execute_result"
    },
    {
     "data": {
      "image/png": "[encoded data removed]",
      "text/plain": [
       "<Figure size 432x288 with 1 Axes>"
      ]
     },
     "metadata": {
      "needs_background": "light"
     },
     "output_type": "display_data"
    }
   ],
   "source": [
    "plt.scatter(new_X_train[:,0],new_X_train[:,1],c=y_train,cmap=plt.cm.spring,edgecolor='k')#记得逗号隔开"
   ]
  },
  {
   "cell_type": "code",
   "execution_count": 32,
   "metadata": {},
   "outputs": [
    {
     "data": {
      "text/plain": [
       "0.312"
      ]
     },
     "execution_count": 32,
     "metadata": {},
     "output_type": "execute_result"
    }
   ],
   "source": [
    "NB.score(new_X_test,y_test)"
   ]
  },
  {
   "cell_type": "code",
   "execution_count": null,
   "metadata": {},
   "outputs": [],
   "source": []
  }
 ],
 "metadata": {
  "kernelspec": {
   "display_name": "Python 3",
   "language": "python",
   "name": "python3"
  },
  "language_info": {
   "codemirror_mode": {
    "name": "ipython",
    "version": 3
   },
   "file_extension": ".py",
   "mimetype": "text/x-python",
   "name": "python",
   "nbconvert_exporter": "python",
   "pygments_lexer": "ipython3",
   "version": "3.7.4"
  }
 },
 "nbformat": 4,
 "nbformat_minor": 4
}
