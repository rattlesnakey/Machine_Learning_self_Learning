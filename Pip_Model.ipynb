{
 "cells": [
  {
   "cell_type": "code",
   "execution_count": 1,
   "metadata": {},
   "outputs": [],
   "source": [
    "#导入数据集生成器\n",
    "from sklearn.datasets import make_blobs\n",
    "#导入数据集拆分工具\n",
    "from sklearn.model_selection import train_test_split#划分数据集就是为了验证哪个模型表现得是最好的\n",
    "#导入预处理工具\n",
    "from sklearn.preprocessing import StandardScaler\n",
    "#导入多层感知器神经网络\n",
    "from sklearn.neural_network import MLPClassifier\n",
    "#导人画图工具\n",
    "import matplotlib.pyplot as plt\n",
    "#生成样本数量200 ， 分类为2 ，标准差为5 的数据集\n",
    "X, y =make_blobs(n_samples=200 , centers=2 , cluster_std=5)\n",
    "#将数据集拆分为训练集和测试集\n",
    "X_train,X_test, y_train,y_test=train_test_split (X, y , random_state=38)\n",
    "#对数据进行预处理\n",
    "scaler = StandardScaler().fit(X_train)\n",
    "X_train_scaled=scaler.transform(X_train )\n",
    "X_test_scaled= scaler.transform(X_test)\n",
    "#将处理后的数据形态进行打印\n"
   ]
  },
  {
   "cell_type": "code",
   "execution_count": 3,
   "metadata": {},
   "outputs": [
    {
     "name": "stdout",
     "output_type": "stream",
     "text": [
      "使用管道模型的MLP模型评分0.68\n"
     ]
    }
   ],
   "source": [
    "#导人管道模型\n",
    "from sklearn.pipeline import Pipeline\n",
    "#建立包含预处理和神经网络的管道模型\n",
    "pipeline =Pipeline ([(\"scaler\",StandardScaler()),#这个流水线先放入了两个设备\n",
    "(\"mlp\" , MLPClassifier(max_iter=1600,random_state=38))])\n",
    "#用管道模型对训练集进行拟合\n",
    "pipeline.fit(X_train,y_train)\n",
    "#管道模型的分数\n",
    "print (\"使用管道模型的MLP模型评分{}\".format(\n",
    "pipeline.score(X_test, y_test ) ))"
   ]
  },
  {
   "cell_type": "code",
   "execution_count": 8,
   "metadata": {},
   "outputs": [
    {
     "name": "stderr",
     "output_type": "stream",
     "text": [
      "C:\\Users\\admin\\Anaconda3\\lib\\site-packages\\sklearn\\model_selection\\_search.py:814: DeprecationWarning: The default of the `iid` parameter will change from True to False in version 0.22 and will be removed in 0.24. This will change numeric results when test-set sizes are unequal.\n",
      "  DeprecationWarning)\n"
     ]
    },
    {
     "name": "stdout",
     "output_type": "stream",
     "text": [
      "代码运行结果\n",
      "交叉验证最高分：0.7\n",
      "模型最优参数{'mlp__alpha': 0.0001, 'mlp__hidden_layer_sizes': (100, 100)}\n",
      "测试集得分0.64\n"
     ]
    }
   ],
   "source": [
    "#设置参数字典\n",
    "from sklearn.model_selection import GridSearchCV\n",
    "params = {\"mlp__hidden_layer_sizes\":[(50 , ) , (100 , ) , (100 , 100)] ,\"mlp__alpha\":[0.0001,0.001,0.01,0.1]}\n",
    "#将管道模型加入网格搜索\n",
    "grid = GridSearchCV(pipeline,param_grid=params,cv=3)#第一个参数是模型，第二个参数是参数字典\n",
    "#对训练集进行拟合\n",
    "grid.fit(X_train , y_train)\n",
    "#打印模型交叉验证分数、最佳参数和测试集得分\n",
    "print(\"代码运行结果\")\n",
    "print (\"交叉验证最高分：{}\".format(grid.best_score_) )\n",
    "print (\"模型最优参数{}\" .format(grid.best_params_))\n",
    "print (\"测试集得分{}\".format(grid . score(X_test,y_test)))\n"
   ]
  },
  {
   "cell_type": "markdown",
   "metadata": {},
   "source": [
    "在上面这段代码中， 大家会发现我们传给参数params 的方法发生了一点变化， 那就\n",
    "是我们在hidden_layer_ sizes 和alpha 前面都添加了mlp一这样一个前缀。为什么要这样\n",
    "做呢？这是因为pipeline 中会有多个算法， 我们需要让pipeline 知道这个参数是传给哪一\n",
    "个算法的。比如在本例中， 我们建立的管道模型pipeline 有scaler 也有mlp ，如果我们不\n",
    "用前缀进行指定的话， pipeline 便会搞不清楚参数究竟是给scaler 的还是mlp 的， 于是程\n",
    "序就会报错。"
   ]
  },
  {
   "cell_type": "code",
   "execution_count": 10,
   "metadata": {},
   "outputs": [
    {
     "data": {
      "text/plain": [
       "[('scaler', StandardScaler(copy=True, with_mean=True, with_std=True)),\n",
       " ('mlp',\n",
       "  MLPClassifier(activation='relu', alpha=0.0001, batch_size='auto', beta_1=0.9,\n",
       "                beta_2=0.999, early_stopping=False, epsilon=1e-08,\n",
       "                hidden_layer_sizes=(100,), learning_rate='constant',\n",
       "                learning_rate_init=0.001, max_iter=1600, momentum=0.9,\n",
       "                n_iter_no_change=10, nesterovs_momentum=True, power_t=0.5,\n",
       "                random_state=38, shuffle=True, solver='adam', tol=0.0001,\n",
       "                validation_fraction=0.1, verbose=False, warm_start=False))]"
      ]
     },
     "execution_count": 10,
     "metadata": {},
     "output_type": "execute_result"
    }
   ],
   "source": [
    "pipeline.steps#打印流水线上所包含的设备的参数之类的"
   ]
  },
  {
   "cell_type": "code",
   "execution_count": 11,
   "metadata": {},
   "outputs": [
    {
     "ename": "NameError",
     "evalue": "name 'MLPRegressor' is not defined",
     "output_type": "error",
     "traceback": [
      "\u001b[1;31m---------------------------------------------------------------------------\u001b[0m",
      "\u001b[1;31mNameError\u001b[0m                                 Traceback (most recent call last)",
      "\u001b[1;32m<ipython-input-11-0f7bcad5b187>\u001b[0m in \u001b[0;36m<module>\u001b[1;34m\u001b[0m\n\u001b[0;32m      1\u001b[0m \u001b[1;31m#导入make_pipeline模块\u001b[0m\u001b[1;33m\u001b[0m\u001b[1;33m\u001b[0m\u001b[1;33m\u001b[0m\u001b[0m\n\u001b[0;32m      2\u001b[0m \u001b[1;32mfrom\u001b[0m \u001b[0msklearn\u001b[0m\u001b[1;33m.\u001b[0m\u001b[0mpipeline\u001b[0m \u001b[1;32mimport\u001b[0m \u001b[0mmake_pipeline\u001b[0m\u001b[1;33m\u001b[0m\u001b[1;33m\u001b[0m\u001b[0m\n\u001b[1;32m----> 3\u001b[1;33m \u001b[0mpipe\u001b[0m \u001b[1;33m=\u001b[0m \u001b[0mmake_pipeline\u001b[0m \u001b[1;33m(\u001b[0m\u001b[0mStandardScaler\u001b[0m\u001b[1;33m(\u001b[0m\u001b[1;33m)\u001b[0m\u001b[1;33m,\u001b[0m \u001b[0mMLPRegressor\u001b[0m \u001b[1;33m(\u001b[0m\u001b[0mrandom_state\u001b[0m\u001b[1;33m=\u001b[0m\u001b[1;36m38\u001b[0m\u001b[1;33m)\u001b[0m\u001b[1;33m)\u001b[0m\u001b[1;33m\u001b[0m\u001b[1;33m\u001b[0m\u001b[0m\n\u001b[0m\u001b[0;32m      4\u001b[0m \u001b[1;31m#打印两种建立管道模型方法的步骤)\u001b[0m\u001b[1;33m\u001b[0m\u001b[1;33m\u001b[0m\u001b[1;33m\u001b[0m\u001b[0m\n\u001b[0;32m      5\u001b[0m \u001b[0mprint\u001b[0m \u001b[1;33m(\u001b[0m \u001b[0mpipe\u001b[0m\u001b[1;33m.\u001b[0m \u001b[0msteps\u001b[0m\u001b[1;33m)\u001b[0m\u001b[1;33m\u001b[0m\u001b[1;33m\u001b[0m\u001b[0m\n",
      "\u001b[1;31mNameError\u001b[0m: name 'MLPRegressor' is not defined"
     ]
    }
   ],
   "source": [
    "#导入make_pipeline模块\n",
    "from sklearn.pipeline import make_pipeline\n",
    "pipe = make_pipeline (StandardScaler(), MLPRegressor (random_state=38))\n",
    "#打印两种建立管道模型方法的步骤)\n",
    "print ( pipe. steps)"
   ]
  },
  {
   "cell_type": "markdown",
   "metadata": {},
   "source": [
    "make_pipeline会比pipeline用起来更简洁一些"
   ]
  },
  {
   "cell_type": "markdown",
   "metadata": {},
   "source": [
    "用Pipeline做模型和参数的选择"
   ]
  },
  {
   "cell_type": "code",
   "execution_count": 15,
   "metadata": {},
   "outputs": [
    {
     "name": "stderr",
     "output_type": "stream",
     "text": [
      "C:\\Users\\admin\\Anaconda3\\lib\\site-packages\\sklearn\\neural_network\\multilayer_perceptron.py:566: ConvergenceWarning: Stochastic Optimizer: Maximum iterations (200) reached and the optimization hasn't converged yet.\n",
      "  % self.max_iter, ConvergenceWarning)\n",
      "C:\\Users\\admin\\Anaconda3\\lib\\site-packages\\sklearn\\neural_network\\multilayer_perceptron.py:566: ConvergenceWarning: Stochastic Optimizer: Maximum iterations (200) reached and the optimization hasn't converged yet.\n",
      "  % self.max_iter, ConvergenceWarning)\n",
      "C:\\Users\\admin\\Anaconda3\\lib\\site-packages\\sklearn\\neural_network\\multilayer_perceptron.py:566: ConvergenceWarning: Stochastic Optimizer: Maximum iterations (200) reached and the optimization hasn't converged yet.\n",
      "  % self.max_iter, ConvergenceWarning)\n",
      "C:\\Users\\admin\\Anaconda3\\lib\\site-packages\\sklearn\\neural_network\\multilayer_perceptron.py:566: ConvergenceWarning: Stochastic Optimizer: Maximum iterations (200) reached and the optimization hasn't converged yet.\n",
      "  % self.max_iter, ConvergenceWarning)\n",
      "C:\\Users\\admin\\Anaconda3\\lib\\site-packages\\sklearn\\neural_network\\multilayer_perceptron.py:566: ConvergenceWarning: Stochastic Optimizer: Maximum iterations (200) reached and the optimization hasn't converged yet.\n",
      "  % self.max_iter, ConvergenceWarning)\n"
     ]
    },
    {
     "name": "stdout",
     "output_type": "stream",
     "text": [
      "{'reg': MLPRegressor(activation='relu', alpha=0.0001, batch_size='auto', beta_1=0.9,\n",
      "             beta_2=0.999, early_stopping=False, epsilon=1e-08,\n",
      "             hidden_layer_sizes=(50,), learning_rate='constant',\n",
      "             learning_rate_init=0.001, max_iter=200, momentum=0.9,\n",
      "             n_iter_no_change=10, nesterovs_momentum=True, power_t=0.5,\n",
      "             random_state=38, shuffle=True, solver='adam', tol=0.0001,\n",
      "             validation_fraction=0.1, verbose=False, warm_start=False), 'reg__hidden_layer_sizes': (50,), 'scaler': StandardScaler(copy=True, with_mean=True, with_std=True)}\n",
      "0.17860945823399546\n"
     ]
    },
    {
     "name": "stderr",
     "output_type": "stream",
     "text": [
      "C:\\Users\\admin\\Anaconda3\\lib\\site-packages\\sklearn\\model_selection\\_search.py:814: DeprecationWarning: The default of the `iid` parameter will change from True to False in version 0.22 and will be removed in 0.24. This will change numeric results when test-set sizes are unequal.\n",
      "  DeprecationWarning)\n"
     ]
    }
   ],
   "source": [
    "from sklearn.neural_network import MLPRegressor\n",
    "from sklearn.ensemble import RandomForestRegressor\n",
    "#在参数字典中增加MLP隐藏层和随机森林中estimator数景的选项\n",
    "params = [ {\"reg\":[MLPRegressor(random_state=38)],'scaler': [StandardScaler(), None],\n",
    "\"reg__hidden_layer_sizes\": [(50 , ) , (100 , ) ,(100 , 100)]} ,\n",
    "{ \"reg\":[RandomForestRegressor(random_state=38)],\"scaler\": [None] ,\"reg__n_estimators\":(10,50,100)}]#参数前面的reg_指明是供哪个参数用的\n",
    "#建立管道模型\n",
    "pipe= Pipeline([(\"scaler\",StandardScaler()),(\"reg\",MLPRegressor())])#首先初始化一下这个管道吧\n",
    "#建立网格搜索\n",
    "grid=GridSearchCV(pipe,params, cv=3)\n",
    "#拟合数据\n",
    "grid.fit(X,y)\n",
    "#打印网格搜索结果\n",
    "print(grid.best_params_)\n",
    "print(grid.best_score_)"
   ]
  },
  {
   "cell_type": "code",
   "execution_count": null,
   "metadata": {},
   "outputs": [],
   "source": []
  }
 ],
 "metadata": {
  "kernelspec": {
   "display_name": "Python 3",
   "language": "python",
   "name": "python3"
  },
  "language_info": {
   "codemirror_mode": {
    "name": "ipython",
    "version": 3
   },
   "file_extension": ".py",
   "mimetype": "text/x-python",
   "name": "python",
   "nbconvert_exporter": "python",
   "pygments_lexer": "ipython3",
   "version": "3.7.4"
  }
 },
 "nbformat": 4,
 "nbformat_minor": 4
}
