{
 "cells": [
  {
   "cell_type": "raw",
   "metadata": {},
   "source": [
    "使用网格搜索优化模型的参数"
   ]
  },
  {
   "cell_type": "code",
   "execution_count": 6,
   "metadata": {},
   "outputs": [
    {
     "name": "stdout",
     "output_type": "stream",
     "text": [
      "{'alpha': 10.0, '最大迭代次数': 10000}\n"
     ]
    }
   ],
   "source": [
    "#导人套索回归模型\n",
    "from sklearn.linear_model import Lasso\n",
    "#导人数据集拆分工具\n",
    "from sklearn.model_selection import train_test_split\n",
    "#将数据集拆分为训练集与测试集\n",
    "from sklearn.datasets import load_wine\n",
    "wine=load_wine()\n",
    "X_train,X_test,y_train,y_test=train_test_split(wine.data,\n",
    "wine.target,\n",
    "random_state=38)\n",
    "#设置初始分数为。\n",
    "best_score = 0\n",
    "#设置alpha参数遍历0 . 01 、。. L l和10\n",
    "for alpha in [0.01,0.1,1.0,10.0]:\n",
    "#最大迭代数遍历100 、1000 、5000和10000\n",
    "    for max_iter in [100 , 1000 , 5000, 10000]:\n",
    "        lasso= Lasso(alpha=alpha,max_iter=max_iter)\n",
    "#训练套索回归模型\n",
    "        lasso.fit(X_train, y_train)\n",
    "        score= lasso.score(X_test , y_test)\n",
    "#另最佳分数为所有分数中的最高值\n",
    "        if score > best_score:\n",
    "            best_score = score\n",
    "#定义字典s 返画最佳参数和最佳最大迭代数\n",
    "print({ \"alpha\":alpha,\"最大迭代次数\":max_iter})"
   ]
  },
  {
   "cell_type": "markdown",
   "metadata": {},
   "source": [
    "与交叉验证法结合的网格搜索，寻找最优的模型参数"
   ]
  },
  {
   "cell_type": "code",
   "execution_count": null,
   "metadata": {},
   "outputs": [],
   "source": []
  },
  {
   "cell_type": "raw",
   "metadata": {},
   "source": [
    "分类的可信度就是它有多少的概率是属于这个类的这样"
   ]
  },
  {
   "cell_type": "code",
   "execution_count": null,
   "metadata": {},
   "outputs": [],
   "source": []
  }
 ],
 "metadata": {
  "kernelspec": {
   "display_name": "Python 3",
   "language": "python",
   "name": "python3"
  },
  "language_info": {
   "codemirror_mode": {
    "name": "ipython",
    "version": 3
   },
   "file_extension": ".py",
   "mimetype": "text/x-python",
   "name": "python",
   "nbconvert_exporter": "python",
   "pygments_lexer": "ipython3",
   "version": "3.7.4"
  }
 },
 "nbformat": 4,
 "nbformat_minor": 4
}
